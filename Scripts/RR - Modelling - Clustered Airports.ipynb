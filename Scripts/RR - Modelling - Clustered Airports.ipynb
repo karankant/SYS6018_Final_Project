{
 "cells": [
  {
   "cell_type": "markdown",
   "metadata": {},
   "source": [
    "# Reading Data"
   ]
  },
  {
   "cell_type": "code",
   "execution_count": 36,
   "metadata": {},
   "outputs": [],
   "source": [
    "# Imports\n",
    "%config InlineBackend.figure_format = 'retina'\n",
    "%matplotlib inline\n",
    "\n",
    "import numpy as np\n",
    "import scipy as sp\n",
    "import matplotlib.pyplot as plt\n",
    "import pandas as pd\n",
    "\n",
    "import seaborn as sns\n",
    "sns.set_style('white')\n",
    "\n",
    "from sklearn.linear_model import LogisticRegression\n",
    "from sklearn. metrics import roc_auc_score, confusion_matrix"
   ]
  },
  {
   "cell_type": "code",
   "execution_count": 3,
   "metadata": {},
   "outputs": [
    {
     "data": {
      "text/html": [
       "<div>\n",
       "<style scoped>\n",
       "    .dataframe tbody tr th:only-of-type {\n",
       "        vertical-align: middle;\n",
       "    }\n",
       "\n",
       "    .dataframe tbody tr th {\n",
       "        vertical-align: top;\n",
       "    }\n",
       "\n",
       "    .dataframe thead th {\n",
       "        text-align: right;\n",
       "    }\n",
       "</style>\n",
       "<table border=\"1\" class=\"dataframe\">\n",
       "  <thead>\n",
       "    <tr style=\"text-align: right;\">\n",
       "      <th></th>\n",
       "      <th>Unnamed: 0</th>\n",
       "      <th>DESTINATION_AIRPORT</th>\n",
       "      <th>ORIGIN_AIRPORT</th>\n",
       "      <th>MONTH</th>\n",
       "      <th>DAY</th>\n",
       "      <th>DAY_OF_WEEK</th>\n",
       "      <th>AIRLINE</th>\n",
       "      <th>FLIGHT_NUMBER</th>\n",
       "      <th>TAIL_NUMBER</th>\n",
       "      <th>SCHEDULED_DEPARTURE</th>\n",
       "      <th>SCHEDULED_TIME</th>\n",
       "      <th>DISTANCE</th>\n",
       "      <th>ARRIVAL_DELAY</th>\n",
       "    </tr>\n",
       "  </thead>\n",
       "  <tbody>\n",
       "    <tr>\n",
       "      <th>0</th>\n",
       "      <td>1</td>\n",
       "      <td>9</td>\n",
       "      <td>7</td>\n",
       "      <td>3</td>\n",
       "      <td>27</td>\n",
       "      <td>5</td>\n",
       "      <td>EV</td>\n",
       "      <td>5438</td>\n",
       "      <td>N846AS</td>\n",
       "      <td>10:00:00</td>\n",
       "      <td>85</td>\n",
       "      <td>425</td>\n",
       "      <td>16</td>\n",
       "    </tr>\n",
       "    <tr>\n",
       "      <th>1</th>\n",
       "      <td>2</td>\n",
       "      <td>9</td>\n",
       "      <td>7</td>\n",
       "      <td>3</td>\n",
       "      <td>17</td>\n",
       "      <td>2</td>\n",
       "      <td>EV</td>\n",
       "      <td>5199</td>\n",
       "      <td>N883AS</td>\n",
       "      <td>20:30:00</td>\n",
       "      <td>84</td>\n",
       "      <td>425</td>\n",
       "      <td>1</td>\n",
       "    </tr>\n",
       "    <tr>\n",
       "      <th>2</th>\n",
       "      <td>3</td>\n",
       "      <td>9</td>\n",
       "      <td>2</td>\n",
       "      <td>5</td>\n",
       "      <td>2</td>\n",
       "      <td>6</td>\n",
       "      <td>DL</td>\n",
       "      <td>2582</td>\n",
       "      <td>N894AT</td>\n",
       "      <td>20:30:00</td>\n",
       "      <td>123</td>\n",
       "      <td>692</td>\n",
       "      <td>-15</td>\n",
       "    </tr>\n",
       "    <tr>\n",
       "      <th>3</th>\n",
       "      <td>4</td>\n",
       "      <td>9</td>\n",
       "      <td>2</td>\n",
       "      <td>9</td>\n",
       "      <td>11</td>\n",
       "      <td>5</td>\n",
       "      <td>EV</td>\n",
       "      <td>5870</td>\n",
       "      <td>N11548</td>\n",
       "      <td>08:30:00</td>\n",
       "      <td>115</td>\n",
       "      <td>654</td>\n",
       "      <td>6</td>\n",
       "    </tr>\n",
       "    <tr>\n",
       "      <th>4</th>\n",
       "      <td>5</td>\n",
       "      <td>9</td>\n",
       "      <td>2</td>\n",
       "      <td>12</td>\n",
       "      <td>9</td>\n",
       "      <td>3</td>\n",
       "      <td>EV</td>\n",
       "      <td>6168</td>\n",
       "      <td>N17138</td>\n",
       "      <td>21:00:00</td>\n",
       "      <td>111</td>\n",
       "      <td>655</td>\n",
       "      <td>1</td>\n",
       "    </tr>\n",
       "    <tr>\n",
       "      <th>5</th>\n",
       "      <td>6</td>\n",
       "      <td>9</td>\n",
       "      <td>2</td>\n",
       "      <td>3</td>\n",
       "      <td>12</td>\n",
       "      <td>4</td>\n",
       "      <td>EV</td>\n",
       "      <td>6050</td>\n",
       "      <td>N12900</td>\n",
       "      <td>13:30:00</td>\n",
       "      <td>112</td>\n",
       "      <td>654</td>\n",
       "      <td>-2</td>\n",
       "    </tr>\n",
       "    <tr>\n",
       "      <th>6</th>\n",
       "      <td>7</td>\n",
       "      <td>9</td>\n",
       "      <td>7</td>\n",
       "      <td>3</td>\n",
       "      <td>26</td>\n",
       "      <td>4</td>\n",
       "      <td>OO</td>\n",
       "      <td>4507</td>\n",
       "      <td>N8965E</td>\n",
       "      <td>14:00:00</td>\n",
       "      <td>86</td>\n",
       "      <td>425</td>\n",
       "      <td>3</td>\n",
       "    </tr>\n",
       "    <tr>\n",
       "      <th>7</th>\n",
       "      <td>8</td>\n",
       "      <td>9</td>\n",
       "      <td>2</td>\n",
       "      <td>5</td>\n",
       "      <td>8</td>\n",
       "      <td>5</td>\n",
       "      <td>DL</td>\n",
       "      <td>2582</td>\n",
       "      <td>N922AT</td>\n",
       "      <td>20:30:00</td>\n",
       "      <td>126</td>\n",
       "      <td>692</td>\n",
       "      <td>-16</td>\n",
       "    </tr>\n",
       "    <tr>\n",
       "      <th>8</th>\n",
       "      <td>9</td>\n",
       "      <td>9</td>\n",
       "      <td>7</td>\n",
       "      <td>5</td>\n",
       "      <td>12</td>\n",
       "      <td>2</td>\n",
       "      <td>EV</td>\n",
       "      <td>5218</td>\n",
       "      <td>N848AS</td>\n",
       "      <td>10:00:00</td>\n",
       "      <td>85</td>\n",
       "      <td>425</td>\n",
       "      <td>-6</td>\n",
       "    </tr>\n",
       "    <tr>\n",
       "      <th>9</th>\n",
       "      <td>10</td>\n",
       "      <td>9</td>\n",
       "      <td>2</td>\n",
       "      <td>10</td>\n",
       "      <td>8</td>\n",
       "      <td>4</td>\n",
       "      <td>EV</td>\n",
       "      <td>5197</td>\n",
       "      <td>N872AS</td>\n",
       "      <td>14:30:00</td>\n",
       "      <td>122</td>\n",
       "      <td>692</td>\n",
       "      <td>-4</td>\n",
       "    </tr>\n",
       "  </tbody>\n",
       "</table>\n",
       "</div>"
      ],
      "text/plain": [
       "   Unnamed: 0  DESTINATION_AIRPORT  ORIGIN_AIRPORT  MONTH  DAY  DAY_OF_WEEK  \\\n",
       "0           1                    9               7      3   27            5   \n",
       "1           2                    9               7      3   17            2   \n",
       "2           3                    9               2      5    2            6   \n",
       "3           4                    9               2      9   11            5   \n",
       "4           5                    9               2     12    9            3   \n",
       "5           6                    9               2      3   12            4   \n",
       "6           7                    9               7      3   26            4   \n",
       "7           8                    9               2      5    8            5   \n",
       "8           9                    9               7      5   12            2   \n",
       "9          10                    9               2     10    8            4   \n",
       "\n",
       "  AIRLINE  FLIGHT_NUMBER TAIL_NUMBER SCHEDULED_DEPARTURE  SCHEDULED_TIME  \\\n",
       "0      EV           5438      N846AS            10:00:00              85   \n",
       "1      EV           5199      N883AS            20:30:00              84   \n",
       "2      DL           2582      N894AT            20:30:00             123   \n",
       "3      EV           5870      N11548            08:30:00             115   \n",
       "4      EV           6168      N17138            21:00:00             111   \n",
       "5      EV           6050      N12900            13:30:00             112   \n",
       "6      OO           4507      N8965E            14:00:00              86   \n",
       "7      DL           2582      N922AT            20:30:00             126   \n",
       "8      EV           5218      N848AS            10:00:00              85   \n",
       "9      EV           5197      N872AS            14:30:00             122   \n",
       "\n",
       "   DISTANCE  ARRIVAL_DELAY  \n",
       "0       425             16  \n",
       "1       425              1  \n",
       "2       692            -15  \n",
       "3       654              6  \n",
       "4       655              1  \n",
       "5       654             -2  \n",
       "6       425              3  \n",
       "7       692            -16  \n",
       "8       425             -6  \n",
       "9       692             -4  "
      ]
     },
     "execution_count": 3,
     "metadata": {},
     "output_type": "execute_result"
    }
   ],
   "source": [
    "import os\n",
    "os.chdir(\"/home/rk9cx/Kaggle/\")\n",
    "flights_df = pd.read_csv(\"flights_clean_merged.csv\", index_col=False)\n",
    "flights_df.head(10)"
   ]
  },
  {
   "cell_type": "markdown",
   "metadata": {},
   "source": [
    "# Preprocessing"
   ]
  },
  {
   "cell_type": "code",
   "execution_count": 4,
   "metadata": {},
   "outputs": [
    {
     "data": {
      "text/plain": [
       "(5713508,)"
      ]
     },
     "execution_count": 4,
     "metadata": {},
     "output_type": "execute_result"
    }
   ],
   "source": [
    "#converting response variable to \n",
    "delay_cutoff = 15\n",
    "flights_df[\"ARRIVAL_DELAY\"] = flights_df[\"ARRIVAL_DELAY\"].apply(lambda x: 0 if x<15 else 1)\n",
    "flights_df = flights_df.reset_index(drop=True)\n",
    "labels_shuffle = flights_df[\"ARRIVAL_DELAY\"]\n",
    "labels_shuffle.shape"
   ]
  },
  {
   "cell_type": "code",
   "execution_count": 5,
   "metadata": {},
   "outputs": [],
   "source": [
    "#Function for one hot-encoding\n",
    "def make_onehot_feat_dict(df, feat_key, feat_name):\n",
    "    # Create features for each day of the week\n",
    "    feat_vals = df[feat_key].values\n",
    "    all_vals = np.unique(feat_vals)\n",
    "    N_vals = len(all_vals)\n",
    "    N_feat = N_vals - 1\n",
    "\n",
    "    # Create keys\n",
    "    keys = [0]*N_feat\n",
    "    for i in range(N_feat):\n",
    "        keys[i] = 'f_'+feat_name+'_'+ str(all_vals[i])\n",
    "\n",
    "    # Create value for each training example in dict\n",
    "    feat_dict = {}\n",
    "    for i, k in enumerate(keys):\n",
    "        this_day = all_vals[i]\n",
    "        feat_dict[k] = feat_vals == this_day\n",
    "    return feat_dict"
   ]
  },
  {
   "cell_type": "code",
   "execution_count": 6,
   "metadata": {},
   "outputs": [],
   "source": [
    "#converting day of week into one-hot\n",
    "daysfeat_dict = make_onehot_feat_dict(flights_df, 'DAY_OF_WEEK', 'day')"
   ]
  },
  {
   "cell_type": "code",
   "execution_count": 7,
   "metadata": {},
   "outputs": [],
   "source": [
    "#converting months into one-hot\n",
    "monthsfeat_dict = make_onehot_feat_dict(flights_df, 'MONTH', 'month')"
   ]
  },
  {
   "cell_type": "code",
   "execution_count": 8,
   "metadata": {},
   "outputs": [],
   "source": [
    "#converting origin airport into one-hot\n",
    "apfeat_dict = make_onehot_feat_dict(flights_df, 'ORIGIN_AIRPORT', 'aa')"
   ]
  },
  {
   "cell_type": "code",
   "execution_count": 9,
   "metadata": {},
   "outputs": [],
   "source": [
    "#converting destination airport into one-hot\n",
    "deafeat_dict = make_onehot_feat_dict(flights_df, 'DESTINATION_AIRPORT', 'da')"
   ]
  },
  {
   "cell_type": "code",
   "execution_count": 10,
   "metadata": {},
   "outputs": [],
   "source": [
    "#converting Airlines into one-hot\n",
    "alfeat_dict = make_onehot_feat_dict(flights_df, 'AIRLINE', 'al')"
   ]
  },
  {
   "cell_type": "code",
   "execution_count": 13,
   "metadata": {},
   "outputs": [],
   "source": [
    "# Add departure hour as a feature\n",
    "flights_df['HOUR_DEPARTURE'] = flights_df['SCHEDULED_DEPARTURE'].astype(str).str[:2]\n",
    "#converting hours departure into one-hot\n",
    "hrfeat_dict = make_onehot_feat_dict(flights_df, 'HOUR_DEPARTURE', 'hr')"
   ]
  },
  {
   "cell_type": "code",
   "execution_count": 16,
   "metadata": {},
   "outputs": [],
   "source": [
    "all_dicts = [deafeat_dict, daysfeat_dict, monthsfeat_dict, alfeat_dict, hrfeat_dict, apfeat_dict]\n",
    "feat_dict = all_dicts[0].copy()\n",
    "for d in all_dicts[1:]:\n",
    "    feat_dict.update(d)"
   ]
  },
  {
   "cell_type": "code",
   "execution_count": 30,
   "metadata": {},
   "outputs": [
    {
     "data": {
      "text/plain": [
       "(5713508, 70)"
      ]
     },
     "execution_count": 30,
     "metadata": {},
     "output_type": "execute_result"
    }
   ],
   "source": [
    "df_feat = pd.DataFrame.from_dict(feat_dict)\n",
    "df_feat = pd.concat([df_feat, flights_df[\"SCHEDULED_TIME\"], flights_df[\"DISTANCE\"]], axis=1)\n",
    "df_feat.shape"
   ]
  },
  {
   "cell_type": "code",
   "execution_count": 22,
   "metadata": {},
   "outputs": [
    {
     "data": {
      "text/html": [
       "<div>\n",
       "<style scoped>\n",
       "    .dataframe tbody tr th:only-of-type {\n",
       "        vertical-align: middle;\n",
       "    }\n",
       "\n",
       "    .dataframe tbody tr th {\n",
       "        vertical-align: top;\n",
       "    }\n",
       "\n",
       "    .dataframe thead th {\n",
       "        text-align: right;\n",
       "    }\n",
       "</style>\n",
       "<table border=\"1\" class=\"dataframe\">\n",
       "  <thead>\n",
       "    <tr style=\"text-align: right;\">\n",
       "      <th></th>\n",
       "      <th>f_da_1</th>\n",
       "      <th>f_da_2</th>\n",
       "      <th>f_da_3</th>\n",
       "      <th>f_da_4</th>\n",
       "      <th>f_da_5</th>\n",
       "      <th>f_da_6</th>\n",
       "      <th>f_da_7</th>\n",
       "      <th>f_da_8</th>\n",
       "      <th>f_day_1</th>\n",
       "      <th>f_day_2</th>\n",
       "      <th>...</th>\n",
       "      <th>f_hr_22</th>\n",
       "      <th>f_aa_1</th>\n",
       "      <th>f_aa_2</th>\n",
       "      <th>f_aa_3</th>\n",
       "      <th>f_aa_4</th>\n",
       "      <th>f_aa_5</th>\n",
       "      <th>f_aa_6</th>\n",
       "      <th>f_aa_7</th>\n",
       "      <th>SCHEDULED_TIME</th>\n",
       "      <th>DISTANCE</th>\n",
       "    </tr>\n",
       "  </thead>\n",
       "  <tbody>\n",
       "    <tr>\n",
       "      <th>336070</th>\n",
       "      <td>False</td>\n",
       "      <td>False</td>\n",
       "      <td>False</td>\n",
       "      <td>False</td>\n",
       "      <td>False</td>\n",
       "      <td>True</td>\n",
       "      <td>False</td>\n",
       "      <td>False</td>\n",
       "      <td>False</td>\n",
       "      <td>False</td>\n",
       "      <td>...</td>\n",
       "      <td>False</td>\n",
       "      <td>False</td>\n",
       "      <td>False</td>\n",
       "      <td>False</td>\n",
       "      <td>False</td>\n",
       "      <td>True</td>\n",
       "      <td>False</td>\n",
       "      <td>False</td>\n",
       "      <td>108</td>\n",
       "      <td>565</td>\n",
       "    </tr>\n",
       "    <tr>\n",
       "      <th>2231580</th>\n",
       "      <td>True</td>\n",
       "      <td>False</td>\n",
       "      <td>False</td>\n",
       "      <td>False</td>\n",
       "      <td>False</td>\n",
       "      <td>False</td>\n",
       "      <td>False</td>\n",
       "      <td>False</td>\n",
       "      <td>False</td>\n",
       "      <td>False</td>\n",
       "      <td>...</td>\n",
       "      <td>False</td>\n",
       "      <td>False</td>\n",
       "      <td>False</td>\n",
       "      <td>False</td>\n",
       "      <td>False</td>\n",
       "      <td>False</td>\n",
       "      <td>False</td>\n",
       "      <td>True</td>\n",
       "      <td>411</td>\n",
       "      <td>2917</td>\n",
       "    </tr>\n",
       "    <tr>\n",
       "      <th>4052238</th>\n",
       "      <td>False</td>\n",
       "      <td>False</td>\n",
       "      <td>False</td>\n",
       "      <td>False</td>\n",
       "      <td>False</td>\n",
       "      <td>True</td>\n",
       "      <td>False</td>\n",
       "      <td>False</td>\n",
       "      <td>True</td>\n",
       "      <td>False</td>\n",
       "      <td>...</td>\n",
       "      <td>False</td>\n",
       "      <td>False</td>\n",
       "      <td>False</td>\n",
       "      <td>False</td>\n",
       "      <td>False</td>\n",
       "      <td>False</td>\n",
       "      <td>False</td>\n",
       "      <td>True</td>\n",
       "      <td>260</td>\n",
       "      <td>1846</td>\n",
       "    </tr>\n",
       "    <tr>\n",
       "      <th>2896854</th>\n",
       "      <td>False</td>\n",
       "      <td>False</td>\n",
       "      <td>False</td>\n",
       "      <td>False</td>\n",
       "      <td>False</td>\n",
       "      <td>True</td>\n",
       "      <td>False</td>\n",
       "      <td>False</td>\n",
       "      <td>False</td>\n",
       "      <td>False</td>\n",
       "      <td>...</td>\n",
       "      <td>False</td>\n",
       "      <td>False</td>\n",
       "      <td>False</td>\n",
       "      <td>False</td>\n",
       "      <td>False</td>\n",
       "      <td>True</td>\n",
       "      <td>False</td>\n",
       "      <td>False</td>\n",
       "      <td>57</td>\n",
       "      <td>89</td>\n",
       "    </tr>\n",
       "    <tr>\n",
       "      <th>2378883</th>\n",
       "      <td>False</td>\n",
       "      <td>False</td>\n",
       "      <td>False</td>\n",
       "      <td>False</td>\n",
       "      <td>False</td>\n",
       "      <td>False</td>\n",
       "      <td>True</td>\n",
       "      <td>False</td>\n",
       "      <td>False</td>\n",
       "      <td>False</td>\n",
       "      <td>...</td>\n",
       "      <td>False</td>\n",
       "      <td>False</td>\n",
       "      <td>False</td>\n",
       "      <td>False</td>\n",
       "      <td>False</td>\n",
       "      <td>False</td>\n",
       "      <td>False</td>\n",
       "      <td>True</td>\n",
       "      <td>309</td>\n",
       "      <td>2419</td>\n",
       "    </tr>\n",
       "  </tbody>\n",
       "</table>\n",
       "<p>5 rows × 70 columns</p>\n",
       "</div>"
      ],
      "text/plain": [
       "         f_da_1  f_da_2  f_da_3  f_da_4  f_da_5  f_da_6  f_da_7  f_da_8  \\\n",
       "336070    False   False   False   False   False    True   False   False   \n",
       "2231580    True   False   False   False   False   False   False   False   \n",
       "4052238   False   False   False   False   False    True   False   False   \n",
       "2896854   False   False   False   False   False    True   False   False   \n",
       "2378883   False   False   False   False   False   False    True   False   \n",
       "\n",
       "         f_day_1  f_day_2    ...     f_hr_22  f_aa_1  f_aa_2  f_aa_3  f_aa_4  \\\n",
       "336070     False    False    ...       False   False   False   False   False   \n",
       "2231580    False    False    ...       False   False   False   False   False   \n",
       "4052238     True    False    ...       False   False   False   False   False   \n",
       "2896854    False    False    ...       False   False   False   False   False   \n",
       "2378883    False    False    ...       False   False   False   False   False   \n",
       "\n",
       "         f_aa_5  f_aa_6  f_aa_7  SCHEDULED_TIME  DISTANCE  \n",
       "336070     True   False   False             108       565  \n",
       "2231580   False   False    True             411      2917  \n",
       "4052238   False   False    True             260      1846  \n",
       "2896854    True   False   False              57        89  \n",
       "2378883   False   False    True             309      2419  \n",
       "\n",
       "[5 rows x 70 columns]"
      ]
     },
     "execution_count": 22,
     "metadata": {},
     "output_type": "execute_result"
    }
   ],
   "source": [
    "N_flights = df_feat.shape[0]\n",
    "N_train = int(N_flights*.7)"
   ]
  },
  {
   "cell_type": "code",
   "execution_count": 31,
   "metadata": {},
   "outputs": [
    {
     "name": "stdout",
     "output_type": "stream",
     "text": [
      "(4570806, 70)\n",
      "(1142702, 70)\n",
      "(4570806,)\n",
      "(1142702,)\n"
     ]
    }
   ],
   "source": [
    "from sklearn.model_selection import train_test_split\n",
    "x_train, x_test, y_train, y_test = train_test_split(df_feat, flights_df[\"ARRIVAL_DELAY\"], test_size=0.20, random_state=42)\n",
    "print(x_train.shape)\n",
    "print(x_test.shape)\n",
    "print(y_train.shape)\n",
    "print(y_test.shape)"
   ]
  },
  {
   "cell_type": "code",
   "execution_count": 32,
   "metadata": {},
   "outputs": [
    {
     "data": {
      "text/plain": [
       "LogisticRegression(C=100, class_weight=None, dual=False, fit_intercept=True,\n",
       "          intercept_scaling=1, max_iter=100, multi_class='ovr', n_jobs=1,\n",
       "          penalty='l2', random_state=None, solver='liblinear', tol=0.0001,\n",
       "          verbose=0, warm_start=False)"
      ]
     },
     "execution_count": 32,
     "metadata": {},
     "output_type": "execute_result"
    }
   ],
   "source": [
    "C = 100\n",
    "model = LogisticRegression(C=C)\n",
    "model.fit(x_train, y_train)"
   ]
  },
  {
   "cell_type": "code",
   "execution_count": 33,
   "metadata": {},
   "outputs": [
    {
     "name": "stdout",
     "output_type": "stream",
     "text": [
      "0.8139809477803258\n",
      "82\n",
      "0.8134377991812388\n",
      "25\n"
     ]
    }
   ],
   "source": [
    "preds_train = model.predict(x_train)\n",
    "preds_val = model.predict(x_test)\n",
    "print(model.score(x_train, y_train))\n",
    "print(sum(model.predict(x_train)))\n",
    "print(model.score(x_test, y_test))\n",
    "print(sum(model.predict(x_test)))\n"
   ]
  },
  {
   "cell_type": "code",
   "execution_count": 34,
   "metadata": {},
   "outputs": [
    {
     "name": "stdout",
     "output_type": "stream",
     "text": [
      "0.6418345266331533\n"
     ]
    },
    {
     "data": {
      "text/plain": [
       "(0, 1)"
      ]
     },
     "execution_count": 34,
     "metadata": {},
     "output_type": "execute_result"
    },
    {
     "data": {
      "image/png": "[encoded data removed]",
      "text/plain": [
       "<Figure size 432x432 with 1 Axes>"
      ]
     },
     "metadata": {
      "image/png": {
       "height": 357,
       "width": 376
      }
     },
     "output_type": "display_data"
    }
   ],
   "source": [
    "from sklearn.metrics import roc_curve, roc_auc_score\n",
    "\n",
    "fpr, tpr, th = roc_curve(y_test, model.predict_proba(x_test)[:,1])\n",
    "print(roc_auc_score(y_test, model.predict_proba(x_test)[:,1]))\n",
    "\n",
    "plt.figure(figsize=(6,6))\n",
    "plt.plot(fpr,tpr,'r')\n",
    "plt.plot([0,1],[0,1],'k--')\n",
    "plt.xlim((0,1))\n",
    "plt.ylim((0,1))"
   ]
  },
  {
   "cell_type": "code",
   "execution_count": 38,
   "metadata": {},
   "outputs": [
    {
     "name": "stdout",
     "output_type": "stream",
     "text": [
      "Confusion matrix:\n",
      " [[868711  60799]\n",
      " [181701  31491]]\n",
      "Precision:  0.3412179000975187\n",
      "Recall:  0.14771192164809185\n",
      "Accuracy:  0.7877836916361396\n",
      "0.5411510948193767\n"
     ]
    },
    {
     "data": {
      "text/plain": [
       "(0, 1)"
      ]
     },
     "execution_count": 38,
     "metadata": {},
     "output_type": "execute_result"
    },
    {
     "data": {
      "image/png": "[encoded data removed]",
      "text/plain": [
       "<Figure size 432x432 with 1 Axes>"
      ]
     },
     "metadata": {
      "image/png": {
       "height": 357,
       "width": 376
      }
     },
     "output_type": "display_data"
    }
   ],
   "source": [
    "decision_thresh = .3\n",
    "all_preds = model.predict_proba(x_test)[:,1] > decision_thresh\n",
    "all_ys = y_test\n",
    "all_confuse = confusion_matrix(all_ys, all_preds)\n",
    "print('Confusion matrix:\\n',all_confuse)\n",
    "print('Precision: ', all_confuse[1,1]/(all_confuse[1,1]+all_confuse[0,1]))\n",
    "print('Recall: ', all_confuse[1,1]/(all_confuse[1,1]+all_confuse[1,0]))\n",
    "print('Accuracy: ', (all_confuse[0,0] + all_confuse[1,1])/(all_confuse[1,1]+all_confuse[1,0]+all_confuse[0,1] + all_confuse[0,0]))\n",
    "from sklearn.metrics import roc_curve, roc_auc_score\n",
    "fpr, tpr, th = roc_curve(all_ys,all_preds)\n",
    "print(roc_auc_score(all_ys, all_preds))\n",
    "plt.figure(figsize=(6,6))\n",
    "plt.plot(fpr,tpr,'r')\n",
    "plt.plot([0,1],[0,1],'k--')\n",
    "plt.xlim((0,1))\n",
    "plt.ylim((0,1))"
   ]
  },
  {
   "cell_type": "code",
   "execution_count": null,
   "metadata": {},
   "outputs": [],
   "source": []
  }
 ],
 "metadata": {
  "kernelspec": {
   "display_name": "Python 3",
   "language": "python",
   "name": "python3"
  },
  "language_info": {
   "codemirror_mode": {
    "name": "ipython",
    "version": 3
   },
   "file_extension": ".py",
   "mimetype": "text/x-python",
   "name": "python",
   "nbconvert_exporter": "python",
   "pygments_lexer": "ipython3",
   "version": "3.6.5"
  }
 },
 "nbformat": 4,
 "nbformat_minor": 2
}
